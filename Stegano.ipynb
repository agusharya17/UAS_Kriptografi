{
 "cells": [
  {
   "cell_type": "code",
   "execution_count": null,
   "metadata": {},
   "outputs": [],
   "source": [
    "def stegano_cipher(text, secret_message):\n",
    "    result = ''\n",
    "    key_index = 0\n",
    "    key = len(secret_message)\n",
    "\n",
    "    for char in text:\n",
    "        if char.isalpha():\n",
    "            shift = ord(secret_message[key_index % key]) - ord('a')\n",
    "            if char.islower():\n",
    "                result += chr((ord(char) + shift - ord('a')) % 26 + ord('a'))\n",
    "            else:\n",
    "                result += chr((ord(char) + shift - ord('A')) % 26 + ord('A'))\n",
    "            key_index += 1\n",
    "        else:\n",
    "            result += char\n",
    "\n",
    "    return result\n",
    "\n",
    "# Input teks dan pesan rahasia\n",
    "input_text = input(\"Masukkan teks: \")\n",
    "secret_message = input(\"Masukkan pesan rahasia: \")\n",
    "\n",
    "# Hasil steganografi\n",
    "result_text = stegano_cipher(input_text, secret_message)\n",
    "print(\"Teks setelah steganografi:\", result_text)"
   ]
  }
 ],
 "metadata": {
  "language_info": {
   "name": "python"
  }
 },
 "nbformat": 4,
 "nbformat_minor": 2
}
