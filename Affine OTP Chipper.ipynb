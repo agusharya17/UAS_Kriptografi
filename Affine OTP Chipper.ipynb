{
 "cells": [
  {
   "cell_type": "code",
   "execution_count": 1,
   "metadata": {},
   "outputs": [
    {
     "name": "stdout",
     "output_type": "stream",
     "text": [
      "Hasil Enkripsi: \n",
      "Hasil Dekripsi: \n"
     ]
    }
   ],
   "source": [
    "import random\n",
    "\n",
    "def generate_otp_key(message_length):\n",
    "    return ''.join([chr(random.randint(0, 127)) for _ in range(message_length)])\n",
    "\n",
    "def encrypt(message, key):\n",
    "    encrypted_message = ''\n",
    "    for i in range(len(message)):\n",
    "        char_code = (ord(message[i]) + ord(key[i])) % 128\n",
    "        encrypted_message += chr(char_code)\n",
    "    return encrypted_message\n",
    "\n",
    "def decrypt(encrypted_message, key):\n",
    "    decrypted_message = ''\n",
    "    for i in range(len(encrypted_message)):\n",
    "        char_code = (ord(encrypted_message[i]) - ord(key[i])) % 128\n",
    "        decrypted_message += chr(char_code)\n",
    "    return decrypted_message\n",
    "\n",
    "def main():\n",
    "    plainteks = input(\"Plainteks: \").upper()\n",
    "    kunci = input(\"Kunci: \").upper()\n",
    "\n",
    "    if len(kunci) < len(plainteks):\n",
    "        print(\"Panjang kunci harus setidaknya sama dengan panjang plainteks.\")\n",
    "        return\n",
    "\n",
    "    otp_key = generate_otp_key(len(plainteks))\n",
    "\n",
    "    hasil_enkripsi = encrypt(plainteks, otp_key)\n",
    "    hasil_dekripsi = decrypt(hasil_enkripsi, otp_key)\n",
    "\n",
    "    print(\"Hasil Enkripsi:\", ''.join([chr(ord(e) + 128160) for e in hasil_enkripsi]))\n",
    "    print(\"Hasil Dekripsi:\", hasil_dekripsi)\n",
    "\n",
    "if __name__ == \"__main__\":\n",
    "    main()\n"
   ]
  }
 ],
 "metadata": {
  "kernelspec": {
   "display_name": "Python 3",
   "language": "python",
   "name": "python3"
  },
  "language_info": {
   "codemirror_mode": {
    "name": "ipython",
    "version": 3
   },
   "file_extension": ".py",
   "mimetype": "text/x-python",
   "name": "python",
   "nbconvert_exporter": "python",
   "pygments_lexer": "ipython3",
   "version": "3.12.1"
  }
 },
 "nbformat": 4,
 "nbformat_minor": 2
}
