{
 "cells": [
  {
   "cell_type": "code",
   "execution_count": 1,
   "metadata": {},
   "outputs": [
    {
     "ename": "ValueError",
     "evalue": "invalid literal for int() with base 10: ''",
     "output_type": "error",
     "traceback": [
      "\u001b[1;31m---------------------------------------------------------------------------\u001b[0m",
      "\u001b[1;31mValueError\u001b[0m                                Traceback (most recent call last)",
      "Cell \u001b[1;32mIn[1], line 24\u001b[0m\n\u001b[0;32m     21\u001b[0m \t\u001b[38;5;28;01mreturn\u001b[39;00m hasil\n\u001b[0;32m     23\u001b[0m contoh \u001b[38;5;241m=\u001b[39m \u001b[38;5;28minput\u001b[39m(\u001b[38;5;124m\"\u001b[39m\u001b[38;5;124mMasukkan text anda = \u001b[39m\u001b[38;5;124m\"\u001b[39m)\n\u001b[1;32m---> 24\u001b[0m penggeseran \u001b[38;5;241m=\u001b[39m \u001b[38;5;28;43mint\u001b[39;49m\u001b[43m(\u001b[49m\u001b[38;5;28;43minput\u001b[39;49m\u001b[43m(\u001b[49m\u001b[38;5;124;43m\"\u001b[39;49m\u001b[38;5;124;43mBerapa banyak penggeseran = \u001b[39;49m\u001b[38;5;124;43m\"\u001b[39;49m\u001b[43m)\u001b[49m\u001b[43m)\u001b[49m\n\u001b[0;32m     25\u001b[0m kelompok_huruf \u001b[38;5;241m=\u001b[39m \u001b[38;5;28mint\u001b[39m(\u001b[38;5;28minput\u001b[39m(\u001b[38;5;124m\"\u001b[39m\u001b[38;5;124mBerapa banyak huruf yang dikelompokkan = \u001b[39m\u001b[38;5;124m\"\u001b[39m))\n\u001b[0;32m     27\u001b[0m \u001b[38;5;28mprint\u001b[39m(\u001b[38;5;124m\"\u001b[39m\u001b[38;5;130;01m\\n\u001b[39;00m\u001b[38;5;124mTulisan asli = \u001b[39m\u001b[38;5;124m\"\u001b[39m \u001b[38;5;241m+\u001b[39m contoh)\n",
      "\u001b[1;31mValueError\u001b[0m: invalid literal for int() with base 10: ''"
     ]
    }
   ],
   "source": [
    "def caesar_chipher(tulisan,penggeseran,kelompokHuruf):\n",
    "\thuruf_ke = 0\n",
    "\thasil = \"\"\n",
    "\n",
    "\tfor i in range(len(tulisan)):\n",
    "\t\tkarakter = tulisan[i]\n",
    "\n",
    "\t\tif (karakter == \" \"):\n",
    "\t\t\t# hasil += \" \"\n",
    "\t\t\tcontinue\n",
    "\t\telif (karakter.isupper()):\n",
    "\t\t\thasil += chr( ( ord(karakter) + penggeseran - 65 ) % 26 + 65 )\n",
    "\t\telse:\n",
    "\t\t\thasil += chr( ( ord(karakter) + penggeseran - 97 ) % 26 + 97 )\n",
    "\n",
    "\t\thuruf_ke += 1\n",
    "\t\tif (huruf_ke == kelompokHuruf):\n",
    "\t\t\thasil += \" \"\n",
    "\t\t\thuruf_ke = 0\n",
    "\n",
    "\treturn hasil\n",
    "\n",
    "contoh = input(\"Masukkan text anda = \")\n",
    "penggeseran = int(input(\"Berapa banyak penggeseran = \"))\n",
    "kelompok_huruf = int(input(\"Berapa banyak huruf yang dikelompokkan = \"))\n",
    "\n",
    "print(\"\\nTulisan asli = \" + contoh)\n",
    "print(\"Banyaknya penggeseran = \" + str(penggeseran))\n",
    "print(\"Hasil Chipher = \" + caesar_chipher(contoh,penggeseran,kelompok_huruf))"
   ]
  }
 ],
 "metadata": {
  "kernelspec": {
   "display_name": "Python 3",
   "language": "python",
   "name": "python3"
  },
  "language_info": {
   "codemirror_mode": {
    "name": "ipython",
    "version": 3
   },
   "file_extension": ".py",
   "mimetype": "text/x-python",
   "name": "python",
   "nbconvert_exporter": "python",
   "pygments_lexer": "ipython3",
   "version": "3.12.1"
  }
 },
 "nbformat": 4,
 "nbformat_minor": 2
}
