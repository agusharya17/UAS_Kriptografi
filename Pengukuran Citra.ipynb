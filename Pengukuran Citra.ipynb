{
 "cells": [
  {
   "cell_type": "code",
   "execution_count": null,
   "metadata": {},
   "outputs": [],
   "source": [
    "from google.colab import files\n",
    "import cv2\n",
    "import numpy as np\n",
    "from sklearn.metrics import mean_squared_error\n",
    "\n",
    "uploaded = files.upload()\n",
    "file_name = next(iter(uploaded))\n",
    "actual_image = cv2.imread(file_name, cv2.IMREAD_GRAYSCALE)\n",
    "predicted_image = actual_image + np.random.normal(0, 10, actual_image.shape).astype(np.uint8)\n",
    "actual_values = actual_image.flatten()\n",
    "predicted_values = predicted_image.flatten()\n",
    "mse = mean_squared_error(actual_values, predicted_values)\n",
    "print(f\"Mean Squared Error: {mse}\")"
   ]
  }
 ],
 "metadata": {
  "language_info": {
   "name": "python"
  }
 },
 "nbformat": 4,
 "nbformat_minor": 2
}
