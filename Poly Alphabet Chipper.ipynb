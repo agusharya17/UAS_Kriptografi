{
 "cells": [
  {
   "cell_type": "code",
   "execution_count": null,
   "metadata": {},
   "outputs": [],
   "source": [
    "def encrypt(plain_text, key):\n",
    "    encrypted_text = \"\"\n",
    "    key_length = len(key)\n",
    "    for i in range(len(plain_text)):\n",
    "        char = plain_text[i]\n",
    "        if char.isalpha():\n",
    "            # Tentukan pergeseran berdasarkan huruf kunci pada posisi tertentu\n",
    "            shift = ord(key[i % key_length].upper()) - ord('A')\n",
    "\n",
    "            # Enkripsi huruf\n",
    "            if char.isupper():\n",
    "                encrypted_text += chr((ord(char) + shift - ord('A')) % 26 + ord('A'))\n",
    "            else:\n",
    "                encrypted_text += chr((ord(char) + shift - ord('a')) % 26 + ord('a'))\n",
    "        else:\n",
    "            # Biarkan karakter non-alphabetic tidak berubah\n",
    "            encrypted_text += char\n",
    "    return encrypted_text\n",
    "\n",
    "def decrypt(encrypted_text, key):\n",
    "    decrypted_text = \"\"\n",
    "    key_length = len(key)\n",
    "    for i in range(len(encrypted_text)):\n",
    "        char = encrypted_text[i]\n",
    "        if char.isalpha():\n",
    "            # Tentukan pergeseran berdasarkan huruf kunci pada posisi tertentu\n",
    "            shift = ord(key[i % key_length].upper()) - ord('A')\n",
    "\n",
    "            # Dekripsi huruf\n",
    "            if char.isupper():\n",
    "                decrypted_text += chr((ord(char) - shift - ord('A')) % 26 + ord('A'))\n",
    "            else:\n",
    "                decrypted_text += chr((ord(char) - shift - ord('a')) % 26 + ord('a'))\n",
    "        else:\n",
    "            # Biarkan karakter non-alphabetic tidak berubah\n",
    "            decrypted_text += char\n",
    "    return decrypted_text\n",
    "\n",
    "# Contoh penggunaan\n",
    "plain_text = \"Dwi Agus Haryanto\"\n",
    "key = \"KEY\"\n",
    "\n",
    "# Enkripsi teks\n",
    "encrypted_text = encrypt(plain_text, key)\n",
    "print(\"Encrypted Text:\", encrypted_text)\n",
    "\n",
    "# Dekripsi teks\n",
    "decrypted_text = decrypt(encrypted_text, key)\n",
    "print(\"Decrypted Text:\", decrypted_text)\n"
   ]
  }
 ],
 "metadata": {
  "language_info": {
   "name": "python"
  }
 },
 "nbformat": 4,
 "nbformat_minor": 2
}
